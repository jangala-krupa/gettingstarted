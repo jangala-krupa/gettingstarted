{
 "cells": [
  {
   "cell_type": "code",
   "execution_count": 5,
   "metadata": {},
   "outputs": [],
   "source": [
    "\n",
    "from nltk.corpus import wordnet"
   ]
  },
  {
   "cell_type": "code",
   "execution_count": 6,
   "metadata": {},
   "outputs": [],
   "source": [
    "synonyms=[]\n",
    "antonyms =[]"
   ]
  },
  {
   "cell_type": "code",
   "execution_count": 7,
   "metadata": {},
   "outputs": [],
   "source": [
    "for syn in wordnet.synsets(\"good\"):\n",
    "    for s in syn.lemmas():\n",
    "        synonyms.append(s.name)"
   ]
  },
  {
   "cell_type": "code",
   "execution_count": 10,
   "metadata": {},
   "outputs": [
    {
     "name": "stdout",
     "output_type": "stream",
     "text": [
      "{<bound method Lemma.name of Lemma('good.s.07.upright')>, <bound method Lemma.name of Lemma('thoroughly.r.02.thoroughly')>, <bound method Lemma.name of Lemma('good.s.12.right')>, <bound method Lemma.name of Lemma('good.n.01.good')>, <bound method Lemma.name of Lemma('adept.s.01.adept')>, <bound method Lemma.name of Lemma('effective.s.04.in_force')>, <bound method Lemma.name of Lemma('good.s.07.just')>, <bound method Lemma.name of Lemma('full.s.06.full')>, <bound method Lemma.name of Lemma('adept.s.01.practiced')>, <bound method Lemma.name of Lemma('estimable.s.02.honorable')>, <bound method Lemma.name of Lemma('dear.s.02.dear')>, <bound method Lemma.name of Lemma('good.s.17.sound')>, <bound method Lemma.name of Lemma('dependable.s.04.secure')>, <bound method Lemma.name of Lemma('good.s.19.honest')>, <bound method Lemma.name of Lemma('good.s.16.serious')>, <bound method Lemma.name of Lemma('effective.s.04.effective')>, <bound method Lemma.name of Lemma('estimable.s.02.estimable')>, <bound method Lemma.name of Lemma('commodity.n.01.commodity')>, <bound method Lemma.name of Lemma('good.n.02.goodness')>, <bound method Lemma.name of Lemma('commodity.n.01.trade_good')>, <bound method Lemma.name of Lemma('adept.s.01.skilful')>, <bound method Lemma.name of Lemma('adept.s.01.skillful')>, <bound method Lemma.name of Lemma('dependable.s.04.dependable')>, <bound method Lemma.name of Lemma('good.s.20.unspoiled')>, <bound method Lemma.name of Lemma('dependable.s.04.safe')>, <bound method Lemma.name of Lemma('thoroughly.r.02.soundly')>, <bound method Lemma.name of Lemma('adept.s.01.proficient')>, <bound method Lemma.name of Lemma('good.s.13.well')>, <bound method Lemma.name of Lemma('effective.s.04.in_effect')>, <bound method Lemma.name of Lemma('dear.s.02.near')>, <bound method Lemma.name of Lemma('good.s.20.unspoilt')>, <bound method Lemma.name of Lemma('estimable.s.02.respectable')>, <bound method Lemma.name of Lemma('good.s.12.ripe')>, <bound method Lemma.name of Lemma('good.s.18.salutary')>, <bound method Lemma.name of Lemma('adept.s.01.expert')>, <bound method Lemma.name of Lemma('beneficial.s.01.beneficial')>, <bound method Lemma.name of Lemma('good.s.20.undecomposed')>}\n"
     ]
    }
   ],
   "source": [
    "print (set(synonyms))"
   ]
  },
  {
   "cell_type": "code",
   "execution_count": 11,
   "metadata": {},
   "outputs": [],
   "source": [
    "for a in s.antonyms():\n",
    "    antonyms.append(a.name())"
   ]
  },
  {
   "cell_type": "code",
   "execution_count": 12,
   "metadata": {},
   "outputs": [
    {
     "name": "stdout",
     "output_type": "stream",
     "text": [
      "{<bound method Lemma.name of Lemma('good.s.07.upright')>, <bound method Lemma.name of Lemma('thoroughly.r.02.thoroughly')>, <bound method Lemma.name of Lemma('good.s.12.right')>, <bound method Lemma.name of Lemma('good.n.01.good')>, <bound method Lemma.name of Lemma('adept.s.01.adept')>, <bound method Lemma.name of Lemma('effective.s.04.in_force')>, <bound method Lemma.name of Lemma('good.s.07.just')>, <bound method Lemma.name of Lemma('full.s.06.full')>, <bound method Lemma.name of Lemma('adept.s.01.practiced')>, <bound method Lemma.name of Lemma('estimable.s.02.honorable')>, <bound method Lemma.name of Lemma('dear.s.02.dear')>, <bound method Lemma.name of Lemma('good.s.17.sound')>, <bound method Lemma.name of Lemma('dependable.s.04.secure')>, <bound method Lemma.name of Lemma('good.s.19.honest')>, <bound method Lemma.name of Lemma('good.s.16.serious')>, <bound method Lemma.name of Lemma('effective.s.04.effective')>, <bound method Lemma.name of Lemma('estimable.s.02.estimable')>, <bound method Lemma.name of Lemma('commodity.n.01.commodity')>, <bound method Lemma.name of Lemma('good.n.02.goodness')>, <bound method Lemma.name of Lemma('commodity.n.01.trade_good')>, <bound method Lemma.name of Lemma('adept.s.01.skilful')>, <bound method Lemma.name of Lemma('adept.s.01.skillful')>, <bound method Lemma.name of Lemma('dependable.s.04.dependable')>, <bound method Lemma.name of Lemma('good.s.20.unspoiled')>, <bound method Lemma.name of Lemma('dependable.s.04.safe')>, <bound method Lemma.name of Lemma('thoroughly.r.02.soundly')>, <bound method Lemma.name of Lemma('adept.s.01.proficient')>, <bound method Lemma.name of Lemma('good.s.13.well')>, <bound method Lemma.name of Lemma('effective.s.04.in_effect')>, <bound method Lemma.name of Lemma('dear.s.02.near')>, <bound method Lemma.name of Lemma('good.s.20.unspoilt')>, <bound method Lemma.name of Lemma('estimable.s.02.respectable')>, <bound method Lemma.name of Lemma('good.s.12.ripe')>, <bound method Lemma.name of Lemma('good.s.18.salutary')>, <bound method Lemma.name of Lemma('adept.s.01.expert')>, <bound method Lemma.name of Lemma('beneficial.s.01.beneficial')>, <bound method Lemma.name of Lemma('good.s.20.undecomposed')>}\n",
      "set()\n"
     ]
    }
   ],
   "source": [
    "print(set(synonyms))\n",
    "print(set(antonyms))"
   ]
  },
  {
   "cell_type": "code",
   "execution_count": 13,
   "metadata": {},
   "outputs": [],
   "source": [
    "sentence = \"i was not happy with the team's performance\""
   ]
  },
  {
   "cell_type": "code",
   "execution_count": 14,
   "metadata": {},
   "outputs": [],
   "source": [
    "import nltk"
   ]
  },
  {
   "cell_type": "code",
   "execution_count": 15,
   "metadata": {},
   "outputs": [],
   "source": [
    "words = nltk.word_tokenize(sentence)"
   ]
  },
  {
   "cell_type": "code",
   "execution_count": 16,
   "metadata": {},
   "outputs": [],
   "source": [
    "new_words= []"
   ]
  },
  {
   "cell_type": "code",
   "execution_count": 17,
   "metadata": {},
   "outputs": [],
   "source": [
    "temp_word =\"\""
   ]
  },
  {
   "cell_type": "code",
   "execution_count": 21,
   "metadata": {},
   "outputs": [],
   "source": [
    "for word in words:\n",
    "    antonyms =[]\n",
    "    if word == \"not\":\n",
    "        temp_word =\"not_\"\n",
    "    elif temp_word == \"not_\":\n",
    "        for syn in wordnet.synsets(word):\n",
    "             for s in syn.lemmas():\n",
    "                    for a in s.antonyms():\n",
    "                        antonyms.append(a.name())\n",
    "        if(len(antonyms)>=1):\n",
    "            word = antonyms[0]\n",
    "        else:\n",
    "            word=temp_word +word\n",
    "            \n",
    "        temp_word = \"\"\n",
    "    if word!= \"not\":\n",
    "        new_words.append(word)"
   ]
  },
  {
   "cell_type": "code",
   "execution_count": 22,
   "metadata": {},
   "outputs": [],
   "source": [
    "sentence = ' '.join(new_words)"
   ]
  },
  {
   "cell_type": "code",
   "execution_count": 23,
   "metadata": {},
   "outputs": [
    {
     "data": {
      "text/plain": [
       "\"i was not_happy with the team 's performance i was unhappy with the team 's performance\""
      ]
     },
     "execution_count": 23,
     "metadata": {},
     "output_type": "execute_result"
    }
   ],
   "source": [
    "sentence"
   ]
  },
  {
   "cell_type": "code",
   "execution_count": null,
   "metadata": {},
   "outputs": [],
   "source": []
  },
  {
   "cell_type": "code",
   "execution_count": null,
   "metadata": {},
   "outputs": [],
   "source": []
  },
  {
   "cell_type": "code",
   "execution_count": null,
   "metadata": {},
   "outputs": [],
   "source": []
  },
  {
   "cell_type": "code",
   "execution_count": null,
   "metadata": {},
   "outputs": [],
   "source": []
  },
  {
   "cell_type": "code",
   "execution_count": null,
   "metadata": {},
   "outputs": [],
   "source": []
  },
  {
   "cell_type": "code",
   "execution_count": null,
   "metadata": {},
   "outputs": [],
   "source": []
  },
  {
   "cell_type": "code",
   "execution_count": null,
   "metadata": {},
   "outputs": [],
   "source": []
  },
  {
   "cell_type": "code",
   "execution_count": null,
   "metadata": {},
   "outputs": [],
   "source": []
  },
  {
   "cell_type": "code",
   "execution_count": null,
   "metadata": {},
   "outputs": [],
   "source": []
  },
  {
   "cell_type": "code",
   "execution_count": null,
   "metadata": {},
   "outputs": [],
   "source": []
  },
  {
   "cell_type": "code",
   "execution_count": null,
   "metadata": {},
   "outputs": [],
   "source": []
  },
  {
   "cell_type": "code",
   "execution_count": null,
   "metadata": {},
   "outputs": [],
   "source": []
  },
  {
   "cell_type": "code",
   "execution_count": null,
   "metadata": {},
   "outputs": [],
   "source": []
  },
  {
   "cell_type": "code",
   "execution_count": null,
   "metadata": {},
   "outputs": [],
   "source": []
  },
  {
   "cell_type": "code",
   "execution_count": null,
   "metadata": {},
   "outputs": [],
   "source": []
  },
  {
   "cell_type": "code",
   "execution_count": null,
   "metadata": {},
   "outputs": [],
   "source": []
  },
  {
   "cell_type": "code",
   "execution_count": null,
   "metadata": {},
   "outputs": [],
   "source": []
  },
  {
   "cell_type": "code",
   "execution_count": null,
   "metadata": {},
   "outputs": [],
   "source": []
  },
  {
   "cell_type": "code",
   "execution_count": null,
   "metadata": {},
   "outputs": [],
   "source": []
  },
  {
   "cell_type": "code",
   "execution_count": null,
   "metadata": {},
   "outputs": [],
   "source": []
  },
  {
   "cell_type": "code",
   "execution_count": null,
   "metadata": {},
   "outputs": [],
   "source": []
  },
  {
   "cell_type": "code",
   "execution_count": null,
   "metadata": {},
   "outputs": [],
   "source": []
  }
 ],
 "metadata": {
  "kernelspec": {
   "display_name": "Python 3",
   "language": "python",
   "name": "python3"
  },
  "language_info": {
   "codemirror_mode": {
    "name": "ipython",
    "version": 3
   },
   "file_extension": ".py",
   "mimetype": "text/x-python",
   "name": "python",
   "nbconvert_exporter": "python",
   "pygments_lexer": "ipython3",
   "version": "3.7.1"
  }
 },
 "nbformat": 4,
 "nbformat_minor": 2
}
