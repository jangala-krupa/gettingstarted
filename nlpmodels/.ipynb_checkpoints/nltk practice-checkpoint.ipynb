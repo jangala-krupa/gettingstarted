{
 "cells": [
  {
   "cell_type": "code",
   "execution_count": 9,
   "metadata": {},
   "outputs": [],
   "source": [
    "import nltk\n",
    "from nltk.stem import PorterStemmer\n",
    "from nltk.stem import WordNetLemmatizer"
   ]
  },
  {
   "cell_type": "code",
   "execution_count": 20,
   "metadata": {},
   "outputs": [],
   "source": [
    "paragraph = \"\"\"Thank you all so very much. Thank you to the Academy. \n",
    "               Thank you to all of you in this room. I have to congratulate \n",
    "               the other incredible nominees this year. The Revenant was \n",
    "               the product of the tireless efforts of an unbelievable cast\n",
    "               and crew. First off, to my brother in this endeavor, Mr. Tom \n",
    "               Hardy. Tom, your talent on screen can only be surpassed by \n",
    "               your friendship off screen … thank you for creating a t\n",
    "               ranscendent cinematic experience. Thank you to everybody at \n",
    "               Fox and New Regency … my entire team. I have to thank \n",
    "               everyone from the very onset of my career … To my parents; \n",
    "               none of this would be possible without you. And to my \n",
    "               friends, I love you dearly; you know who you are. And lastly,\n",
    "               I just want to say this: Making The Revenant was about\n",
    "               man's relationship to the natural world. A world that we\n",
    "               collectively felt in 2015 as the hottest year in recorded\n",
    "               history. Our production needed to move to the southern\n",
    "               tip of this planet just to be able to find snow. Climate\n",
    "               change is real, it is happening right now. It is the most\n",
    "               urgent threat facing our entire species, and we need to work\n",
    "               collectively together and stop procrastinating. We need to\n",
    "               support leaders around the world who do not speak for the \n",
    "               big polluters, but who speak for all of humanity, for the\n",
    "               indigenous people of the world, for the billions and \n",
    "               billions of underprivileged people out there who would be\n",
    "               most affected by this. For our children’s children, and \n",
    "               for those people out there whose voices have been drowned\n",
    "               out by the politics of greed. I thank you all for this \n",
    "               amazing award tonight. Let us not take this planet for \n",
    "               granted. I do not take tonight for grant\"\"\""
   ]
  },
  {
   "cell_type": "code",
   "execution_count": 11,
   "metadata": {},
   "outputs": [],
   "source": [
    "sentences = nltk.sent_tokenize(paragraph)"
   ]
  },
  {
   "cell_type": "code",
   "execution_count": 12,
   "metadata": {},
   "outputs": [],
   "source": [
    "stemmer = PorterStemmer()"
   ]
  },
  {
   "cell_type": "code",
   "execution_count": 13,
   "metadata": {},
   "outputs": [],
   "source": [
    "for i in range(len(sentences)):\n",
    "    words = nltk.word_tokenize(sentences[i])\n",
    "    newwords=[]\n",
    "    newwords =[stemmer.stem(word) for word in words]\n",
    "    sentences[i] = \" \".join(newwords)"
   ]
  },
  {
   "cell_type": "code",
   "execution_count": 17,
   "metadata": {},
   "outputs": [],
   "source": [
    "lemmatizer = WordNetLemmatizer()\n",
    "for i in range(len(sentences)):\n",
    "    words=nltk.word_tokenize(sentences[i])\n",
    "    newwords =[lemmatizer.lemmatize(word) for word in words]\n",
    "    sentences[i] = ' '.join(newwords)"
   ]
  },
  {
   "cell_type": "code",
   "execution_count": 18,
   "metadata": {},
   "outputs": [
    {
     "name": "stdout",
     "output_type": "stream",
     "text": [
      "['thank you all so veri much .', 'thank you to the academi .', 'thank you to all of you in thi room .', 'I have to congratul the other incred nomine thi year .', 'the reven wa the product of the tireless effort of an unbeliev cast and crew .', 'first off , to my brother in thi endeavor , mr. tom hardi .', 'tom , your talent on screen can onli be surpass by your friendship off screen … thank you for creat a t ranscend cinemat experi .', 'thank you to everybodi at fox and new regenc … my entir team .', 'I have to thank everyon from the veri onset of my career … To my parent ; none of thi would be possibl without you .', 'and to my friend , I love you dearli ; you know who you are .', \"and lastli , I just want to say thi : make the reven wa about man 's relationship to the natur world .\", 'A world that we collect felt in 2015 a the hottest year in record histori .', 'our product need to move to the southern tip of thi planet just to be abl to find snow .', 'climat chang is real , it is happen right now .', 'It is the most urgent threat face our entir speci , and we need to work collect togeth and stop procrastin .', 'We need to support leader around the world who do not speak for the big pollut , but who speak for all of human , for the indigen peopl of the world , for the billion and billion of underprivileg peopl out there who would be most affect by thi .', 'for our child ’ s child , and for those peopl out there whose voic have been drown out by the polit of greed .', 'I thank you all for thi amaz award tonight .', 'let u not take thi planet for grant .', 'I do not take tonight for grant']\n"
     ]
    }
   ],
   "source": [
    "print (sentences)"
   ]
  },
  {
   "cell_type": "code",
   "execution_count": 19,
   "metadata": {},
   "outputs": [
    {
     "name": "stderr",
     "output_type": "stream",
     "text": [
      "[nltk_data] Downloading package stopwords to /home/user/nltk_data...\n",
      "[nltk_data]   Package stopwords is already up-to-date!\n"
     ]
    }
   ],
   "source": [
    "nltk.download('stopwords')\n",
    "from nltk.corpus import stopwords "
   ]
  },
  {
   "cell_type": "code",
   "execution_count": 21,
   "metadata": {},
   "outputs": [],
   "source": [
    "sentences = nltk.sent_tokenize(paragraph)"
   ]
  },
  {
   "cell_type": "code",
   "execution_count": 22,
   "metadata": {},
   "outputs": [],
   "source": [
    "for i in range(len(sentences)):\n",
    "    words=nltk.word_tokenize(sentences[i])\n",
    "    newwords=[word for word in words if word not in stopwords.words('english')]\n",
    "    sentences[i]=\" \".join(newwords)"
   ]
  },
  {
   "cell_type": "code",
   "execution_count": 23,
   "metadata": {},
   "outputs": [
    {
     "name": "stdout",
     "output_type": "stream",
     "text": [
      "['Thank much .', 'Thank Academy .', 'Thank room .', 'I congratulate incredible nominees year .', 'The Revenant product tireless efforts unbelievable cast crew .', 'First , brother endeavor , Mr. Tom Hardy .', 'Tom , talent screen surpassed friendship screen … thank creating ranscendent cinematic experience .', 'Thank everybody Fox New Regency … entire team .', 'I thank everyone onset career … To parents ; none would possible without .', 'And friends , I love dearly ; know .', \"And lastly , I want say : Making The Revenant man 's relationship natural world .\", 'A world collectively felt 2015 hottest year recorded history .', 'Our production needed move southern tip planet able find snow .', 'Climate change real , happening right .', 'It urgent threat facing entire species , need work collectively together stop procrastinating .', 'We need support leaders around world speak big polluters , speak humanity , indigenous people world , billions billions underprivileged people would affected .', 'For children ’ children , people whose voices drowned politics greed .', 'I thank amazing award tonight .', 'Let us take planet granted .', 'I take tonight grant']\n"
     ]
    }
   ],
   "source": [
    "print(sentences)\n"
   ]
  },
  {
   "cell_type": "code",
   "execution_count": 25,
   "metadata": {},
   "outputs": [
    {
     "name": "stdout",
     "output_type": "stream",
     "text": [
      "[('Thank', 'NNP'), ('you', 'PRP'), ('all', 'DT'), ('so', 'RB'), ('very', 'RB'), ('much', 'JJ'), ('.', '.'), ('Thank', 'VB'), ('you', 'PRP'), ('to', 'TO'), ('the', 'DT'), ('Academy', 'NNP'), ('.', '.'), ('Thank', 'NNP'), ('you', 'PRP'), ('to', 'TO'), ('all', 'DT'), ('of', 'IN'), ('you', 'PRP'), ('in', 'IN'), ('this', 'DT'), ('room', 'NN'), ('.', '.'), ('I', 'PRP'), ('have', 'VBP'), ('to', 'TO'), ('congratulate', 'VB'), ('the', 'DT'), ('other', 'JJ'), ('incredible', 'JJ'), ('nominees', 'NNS'), ('this', 'DT'), ('year', 'NN'), ('.', '.'), ('The', 'DT'), ('Revenant', 'NNP'), ('was', 'VBD'), ('the', 'DT'), ('product', 'NN'), ('of', 'IN'), ('the', 'DT'), ('tireless', 'NN'), ('efforts', 'NNS'), ('of', 'IN'), ('an', 'DT'), ('unbelievable', 'JJ'), ('cast', 'NN'), ('and', 'CC'), ('crew', 'NN'), ('.', '.'), ('First', 'NNP'), ('off', 'RB'), (',', ','), ('to', 'TO'), ('my', 'PRP$'), ('brother', 'NN'), ('in', 'IN'), ('this', 'DT'), ('endeavor', 'NN'), (',', ','), ('Mr.', 'NNP'), ('Tom', 'NNP'), ('Hardy', 'NNP'), ('.', '.'), ('Tom', 'NNP'), (',', ','), ('your', 'PRP$'), ('talent', 'NN'), ('on', 'IN'), ('screen', 'NN'), ('can', 'MD'), ('only', 'RB'), ('be', 'VB'), ('surpassed', 'VBN'), ('by', 'IN'), ('your', 'PRP$'), ('friendship', 'NN'), ('off', 'IN'), ('screen', 'JJ'), ('…', 'NNP'), ('thank', 'NN'), ('you', 'PRP'), ('for', 'IN'), ('creating', 'VBG'), ('a', 'DT'), ('t', 'JJ'), ('ranscendent', 'NN'), ('cinematic', 'JJ'), ('experience', 'NN'), ('.', '.'), ('Thank', 'NNP'), ('you', 'PRP'), ('to', 'TO'), ('everybody', 'VB'), ('at', 'IN'), ('Fox', 'NNP'), ('and', 'CC'), ('New', 'NNP'), ('Regency', 'NNP'), ('…', 'NNP'), ('my', 'PRP$'), ('entire', 'JJ'), ('team', 'NN'), ('.', '.'), ('I', 'PRP'), ('have', 'VBP'), ('to', 'TO'), ('thank', 'VB'), ('everyone', 'NN'), ('from', 'IN'), ('the', 'DT'), ('very', 'RB'), ('onset', 'NN'), ('of', 'IN'), ('my', 'PRP$'), ('career', 'NN'), ('…', 'NN'), ('To', 'TO'), ('my', 'PRP$'), ('parents', 'NNS'), (';', ':'), ('none', 'NN'), ('of', 'IN'), ('this', 'DT'), ('would', 'MD'), ('be', 'VB'), ('possible', 'JJ'), ('without', 'IN'), ('you', 'PRP'), ('.', '.'), ('And', 'CC'), ('to', 'TO'), ('my', 'PRP$'), ('friends', 'NNS'), (',', ','), ('I', 'PRP'), ('love', 'VBP'), ('you', 'PRP'), ('dearly', 'RB'), (';', ':'), ('you', 'PRP'), ('know', 'VBP'), ('who', 'WP'), ('you', 'PRP'), ('are', 'VBP'), ('.', '.'), ('And', 'CC'), ('lastly', 'RB'), (',', ','), ('I', 'PRP'), ('just', 'RB'), ('want', 'VBP'), ('to', 'TO'), ('say', 'VB'), ('this', 'DT'), (':', ':'), ('Making', 'VBG'), ('The', 'DT'), ('Revenant', 'NNP'), ('was', 'VBD'), ('about', 'IN'), ('man', 'NN'), (\"'s\", 'POS'), ('relationship', 'NN'), ('to', 'TO'), ('the', 'DT'), ('natural', 'JJ'), ('world', 'NN'), ('.', '.'), ('A', 'DT'), ('world', 'NN'), ('that', 'IN'), ('we', 'PRP'), ('collectively', 'RB'), ('felt', 'VBD'), ('in', 'IN'), ('2015', 'CD'), ('as', 'IN'), ('the', 'DT'), ('hottest', 'JJS'), ('year', 'NN'), ('in', 'IN'), ('recorded', 'JJ'), ('history', 'NN'), ('.', '.'), ('Our', 'PRP$'), ('production', 'NN'), ('needed', 'VBN'), ('to', 'TO'), ('move', 'VB'), ('to', 'TO'), ('the', 'DT'), ('southern', 'JJ'), ('tip', 'NN'), ('of', 'IN'), ('this', 'DT'), ('planet', 'NN'), ('just', 'RB'), ('to', 'TO'), ('be', 'VB'), ('able', 'JJ'), ('to', 'TO'), ('find', 'VB'), ('snow', 'JJ'), ('.', '.'), ('Climate', 'NNP'), ('change', 'NN'), ('is', 'VBZ'), ('real', 'JJ'), (',', ','), ('it', 'PRP'), ('is', 'VBZ'), ('happening', 'VBG'), ('right', 'RB'), ('now', 'RB'), ('.', '.'), ('It', 'PRP'), ('is', 'VBZ'), ('the', 'DT'), ('most', 'RBS'), ('urgent', 'JJ'), ('threat', 'NN'), ('facing', 'VBG'), ('our', 'PRP$'), ('entire', 'JJ'), ('species', 'NNS'), (',', ','), ('and', 'CC'), ('we', 'PRP'), ('need', 'VBP'), ('to', 'TO'), ('work', 'VB'), ('collectively', 'RB'), ('together', 'RB'), ('and', 'CC'), ('stop', 'VB'), ('procrastinating', 'NN'), ('.', '.'), ('We', 'PRP'), ('need', 'VBP'), ('to', 'TO'), ('support', 'VB'), ('leaders', 'NNS'), ('around', 'IN'), ('the', 'DT'), ('world', 'NN'), ('who', 'WP'), ('do', 'VBP'), ('not', 'RB'), ('speak', 'VB'), ('for', 'IN'), ('the', 'DT'), ('big', 'JJ'), ('polluters', 'NNS'), (',', ','), ('but', 'CC'), ('who', 'WP'), ('speak', 'VBP'), ('for', 'IN'), ('all', 'DT'), ('of', 'IN'), ('humanity', 'NN'), (',', ','), ('for', 'IN'), ('the', 'DT'), ('indigenous', 'JJ'), ('people', 'NNS'), ('of', 'IN'), ('the', 'DT'), ('world', 'NN'), (',', ','), ('for', 'IN'), ('the', 'DT'), ('billions', 'NNS'), ('and', 'CC'), ('billions', 'NNS'), ('of', 'IN'), ('underprivileged', 'JJ'), ('people', 'NNS'), ('out', 'IN'), ('there', 'EX'), ('who', 'WP'), ('would', 'MD'), ('be', 'VB'), ('most', 'RBS'), ('affected', 'VBN'), ('by', 'IN'), ('this', 'DT'), ('.', '.'), ('For', 'IN'), ('our', 'PRP$'), ('children', 'NNS'), ('’', 'VBP'), ('s', 'JJ'), ('children', 'NNS'), (',', ','), ('and', 'CC'), ('for', 'IN'), ('those', 'DT'), ('people', 'NNS'), ('out', 'RP'), ('there', 'RB'), ('whose', 'WP$'), ('voices', 'NNS'), ('have', 'VBP'), ('been', 'VBN'), ('drowned', 'VBN'), ('out', 'RP'), ('by', 'IN'), ('the', 'DT'), ('politics', 'NNS'), ('of', 'IN'), ('greed', 'NN'), ('.', '.'), ('I', 'PRP'), ('thank', 'VBP'), ('you', 'PRP'), ('all', 'DT'), ('for', 'IN'), ('this', 'DT'), ('amazing', 'JJ'), ('award', 'NN'), ('tonight', 'NN'), ('.', '.'), ('Let', 'VB'), ('us', 'PRP'), ('not', 'RB'), ('take', 'VB'), ('this', 'DT'), ('planet', 'NN'), ('for', 'IN'), ('granted', 'VBN'), ('.', '.'), ('I', 'PRP'), ('do', 'VBP'), ('not', 'RB'), ('take', 'VB'), ('tonight', 'NN'), ('for', 'IN'), ('grant', 'NN')]\n"
     ]
    }
   ],
   "source": [
    "#parts of speech\n",
    "words = nltk.word_tokenize(paragraph)\n",
    "tagged_words = nltk.pos_tag(words)\n",
    "print(tagged_words)"
   ]
  },
  {
   "cell_type": "code",
   "execution_count": 28,
   "metadata": {},
   "outputs": [
    {
     "name": "stdout",
     "output_type": "stream",
     "text": [
      "Thank_NNP you_PRP all_DT so_RB very_RB much_JJ ._. Thank_VB you_PRP to_TO the_DT Academy_NNP ._. Thank_NNP you_PRP to_TO all_DT of_IN you_PRP in_IN this_DT room_NN ._. I_PRP have_VBP to_TO congratulate_VB the_DT other_JJ incredible_JJ nominees_NNS this_DT year_NN ._. The_DT Revenant_NNP was_VBD the_DT product_NN of_IN the_DT tireless_NN efforts_NNS of_IN an_DT unbelievable_JJ cast_NN and_CC crew_NN ._. First_NNP off_RB ,_, to_TO my_PRP$ brother_NN in_IN this_DT endeavor_NN ,_, Mr._NNP Tom_NNP Hardy_NNP ._. Tom_NNP ,_, your_PRP$ talent_NN on_IN screen_NN can_MD only_RB be_VB surpassed_VBN by_IN your_PRP$ friendship_NN off_IN screen_JJ …_NNP thank_NN you_PRP for_IN creating_VBG a_DT t_JJ ranscendent_NN cinematic_JJ experience_NN ._. Thank_NNP you_PRP to_TO everybody_VB at_IN Fox_NNP and_CC New_NNP Regency_NNP …_NNP my_PRP$ entire_JJ team_NN ._. I_PRP have_VBP to_TO thank_VB everyone_NN from_IN the_DT very_RB onset_NN of_IN my_PRP$ career_NN …_NN To_TO my_PRP$ parents_NNS ;_: none_NN of_IN this_DT would_MD be_VB possible_JJ without_IN you_PRP ._. And_CC to_TO my_PRP$ friends_NNS ,_, I_PRP love_VBP you_PRP dearly_RB ;_: you_PRP know_VBP who_WP you_PRP are_VBP ._. And_CC lastly_RB ,_, I_PRP just_RB want_VBP to_TO say_VB this_DT :_: Making_VBG The_DT Revenant_NNP was_VBD about_IN man_NN 's_POS relationship_NN to_TO the_DT natural_JJ world_NN ._. A_DT world_NN that_IN we_PRP collectively_RB felt_VBD in_IN 2015_CD as_IN the_DT hottest_JJS year_NN in_IN recorded_JJ history_NN ._. Our_PRP$ production_NN needed_VBN to_TO move_VB to_TO the_DT southern_JJ tip_NN of_IN this_DT planet_NN just_RB to_TO be_VB able_JJ to_TO find_VB snow_JJ ._. Climate_NNP change_NN is_VBZ real_JJ ,_, it_PRP is_VBZ happening_VBG right_RB now_RB ._. It_PRP is_VBZ the_DT most_RBS urgent_JJ threat_NN facing_VBG our_PRP$ entire_JJ species_NNS ,_, and_CC we_PRP need_VBP to_TO work_VB collectively_RB together_RB and_CC stop_VB procrastinating_NN ._. We_PRP need_VBP to_TO support_VB leaders_NNS around_IN the_DT world_NN who_WP do_VBP not_RB speak_VB for_IN the_DT big_JJ polluters_NNS ,_, but_CC who_WP speak_VBP for_IN all_DT of_IN humanity_NN ,_, for_IN the_DT indigenous_JJ people_NNS of_IN the_DT world_NN ,_, for_IN the_DT billions_NNS and_CC billions_NNS of_IN underprivileged_JJ people_NNS out_IN there_EX who_WP would_MD be_VB most_RBS affected_VBN by_IN this_DT ._. For_IN our_PRP$ children_NNS ’_VBP s_JJ children_NNS ,_, and_CC for_IN those_DT people_NNS out_RP there_RB whose_WP$ voices_NNS have_VBP been_VBN drowned_VBN out_RP by_IN the_DT politics_NNS of_IN greed_NN ._. I_PRP thank_VBP you_PRP all_DT for_IN this_DT amazing_JJ award_NN tonight_NN ._. Let_VB us_PRP not_RB take_VB this_DT planet_NN for_IN granted_VBN ._. I_PRP do_VBP not_RB take_VB tonight_NN for_IN grant_NN\n"
     ]
    }
   ],
   "source": [
    "words_tags = []\n",
    "for tw in tagged_words:\n",
    "    words_tags.append(tw[0]+\"_\"+tw[1])\n",
    "tagged_paragraph=' '.join(words_tags)\n",
    "print (tagged_paragraph)"
   ]
  },
  {
   "cell_type": "code",
   "execution_count": null,
   "metadata": {},
   "outputs": [],
   "source": []
  },
  {
   "cell_type": "code",
   "execution_count": null,
   "metadata": {},
   "outputs": [],
   "source": []
  },
  {
   "cell_type": "code",
   "execution_count": null,
   "metadata": {},
   "outputs": [],
   "source": []
  },
  {
   "cell_type": "code",
   "execution_count": null,
   "metadata": {},
   "outputs": [],
   "source": []
  },
  {
   "cell_type": "code",
   "execution_count": null,
   "metadata": {},
   "outputs": [],
   "source": []
  },
  {
   "cell_type": "code",
   "execution_count": null,
   "metadata": {},
   "outputs": [],
   "source": []
  },
  {
   "cell_type": "code",
   "execution_count": null,
   "metadata": {},
   "outputs": [],
   "source": []
  },
  {
   "cell_type": "code",
   "execution_count": null,
   "metadata": {},
   "outputs": [],
   "source": []
  },
  {
   "cell_type": "code",
   "execution_count": null,
   "metadata": {},
   "outputs": [],
   "source": []
  },
  {
   "cell_type": "code",
   "execution_count": null,
   "metadata": {},
   "outputs": [],
   "source": []
  },
  {
   "cell_type": "code",
   "execution_count": null,
   "metadata": {},
   "outputs": [],
   "source": []
  },
  {
   "cell_type": "code",
   "execution_count": null,
   "metadata": {},
   "outputs": [],
   "source": []
  },
  {
   "cell_type": "code",
   "execution_count": null,
   "metadata": {},
   "outputs": [],
   "source": []
  },
  {
   "cell_type": "code",
   "execution_count": null,
   "metadata": {},
   "outputs": [],
   "source": []
  },
  {
   "cell_type": "code",
   "execution_count": null,
   "metadata": {},
   "outputs": [],
   "source": []
  },
  {
   "cell_type": "code",
   "execution_count": null,
   "metadata": {},
   "outputs": [],
   "source": []
  },
  {
   "cell_type": "code",
   "execution_count": null,
   "metadata": {},
   "outputs": [],
   "source": []
  },
  {
   "cell_type": "code",
   "execution_count": null,
   "metadata": {},
   "outputs": [],
   "source": []
  },
  {
   "cell_type": "code",
   "execution_count": null,
   "metadata": {},
   "outputs": [],
   "source": []
  },
  {
   "cell_type": "code",
   "execution_count": null,
   "metadata": {},
   "outputs": [],
   "source": []
  },
  {
   "cell_type": "code",
   "execution_count": null,
   "metadata": {},
   "outputs": [],
   "source": []
  },
  {
   "cell_type": "code",
   "execution_count": null,
   "metadata": {},
   "outputs": [],
   "source": []
  },
  {
   "cell_type": "code",
   "execution_count": null,
   "metadata": {},
   "outputs": [],
   "source": []
  },
  {
   "cell_type": "code",
   "execution_count": null,
   "metadata": {},
   "outputs": [],
   "source": []
  },
  {
   "cell_type": "code",
   "execution_count": null,
   "metadata": {},
   "outputs": [],
   "source": []
  },
  {
   "cell_type": "code",
   "execution_count": null,
   "metadata": {},
   "outputs": [],
   "source": []
  },
  {
   "cell_type": "code",
   "execution_count": null,
   "metadata": {},
   "outputs": [],
   "source": []
  },
  {
   "cell_type": "code",
   "execution_count": null,
   "metadata": {},
   "outputs": [],
   "source": []
  },
  {
   "cell_type": "code",
   "execution_count": null,
   "metadata": {},
   "outputs": [],
   "source": []
  },
  {
   "cell_type": "code",
   "execution_count": null,
   "metadata": {},
   "outputs": [],
   "source": []
  },
  {
   "cell_type": "code",
   "execution_count": null,
   "metadata": {},
   "outputs": [],
   "source": []
  },
  {
   "cell_type": "code",
   "execution_count": null,
   "metadata": {},
   "outputs": [],
   "source": []
  },
  {
   "cell_type": "code",
   "execution_count": null,
   "metadata": {},
   "outputs": [],
   "source": []
  },
  {
   "cell_type": "code",
   "execution_count": null,
   "metadata": {},
   "outputs": [],
   "source": []
  }
 ],
 "metadata": {
  "kernelspec": {
   "display_name": "Python 3",
   "language": "python",
   "name": "python3"
  },
  "language_info": {
   "codemirror_mode": {
    "name": "ipython",
    "version": 3
   },
   "file_extension": ".py",
   "mimetype": "text/x-python",
   "name": "python",
   "nbconvert_exporter": "python",
   "pygments_lexer": "ipython3",
   "version": "3.7.1"
  }
 },
 "nbformat": 4,
 "nbformat_minor": 2
}
